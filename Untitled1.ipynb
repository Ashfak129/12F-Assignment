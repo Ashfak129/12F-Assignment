{
 "cells": [
  {
   "cell_type": "code",
   "execution_count": null,
   "id": "379adac3-fac1-453c-823c-c0d88f84cf3d",
   "metadata": {},
   "outputs": [],
   "source": [
    "Q1. What is an Exception in python? Write the difference between Exceptions and Syntax error.\n",
    "Ans:- An exception in Python is an event that occurs during program execution when an error or unexpected condition arises.\n",
    "    Exceptions and syntax errors are both types of errors that can occur in Python, but they have distinct characteristics:\n",
    "1.Exceptions occur during the execution of a program when an error or exceptional condition arises. But, Syntax errors occur\n",
    "during the parsing or interpretation phase of the program, before the code is executed.\n",
    "2.They are caused by logical errors, runtime issues, or exceptional conditions like division by zero or accessing undefined\n",
    "variables. But, They are caused by violations of the language syntax rules, such as missing parentheses, incorrect indentation,\n",
    "or using reserved keywords incorrectly.\n",
    "\n",
    "\n"
   ]
  },
  {
   "cell_type": "code",
   "execution_count": null,
   "id": "b45db69c-2ba5-4f25-9588-11fa1410bba4",
   "metadata": {},
   "outputs": [],
   "source": []
  },
  {
   "cell_type": "code",
   "execution_count": null,
   "id": "4719c0c0-6c22-40f6-9a28-7d9e34533121",
   "metadata": {},
   "outputs": [],
   "source": [
    "Q2. What happens when an exception in not handled? Explain with example."
   ]
  },
  {
   "cell_type": "code",
   "execution_count": null,
   "id": "50db0c74-f773-45d5-8e43-1bb49e8786d7",
   "metadata": {},
   "outputs": [],
   "source": [
    "Ans:- Python code executed sequentially(line by line). So, if the exception is not handled then code execution will stop from \n",
    "where the exception will raise."
   ]
  },
  {
   "cell_type": "code",
   "execution_count": 1,
   "id": "a789203b-d998-4190-922a-0bde678b9d3c",
   "metadata": {},
   "outputs": [
    {
     "ename": "FileNotFoundError",
     "evalue": "[Errno 2] No such file or directory: 'test.txt'",
     "output_type": "error",
     "traceback": [
      "\u001b[0;31m---------------------------------------------------------------------------\u001b[0m",
      "\u001b[0;31mFileNotFoundError\u001b[0m                         Traceback (most recent call last)",
      "Cell \u001b[0;32mIn[1], line 1\u001b[0m\n\u001b[0;32m----> 1\u001b[0m file \u001b[38;5;241m=\u001b[39m \u001b[38;5;28;43mopen\u001b[39;49m\u001b[43m(\u001b[49m\u001b[38;5;124;43m\"\u001b[39;49m\u001b[38;5;124;43mtest.txt\u001b[39;49m\u001b[38;5;124;43m\"\u001b[39;49m\u001b[43m,\u001b[49m\u001b[43m \u001b[49m\u001b[38;5;124;43m'\u001b[39;49m\u001b[38;5;124;43mr\u001b[39;49m\u001b[38;5;124;43m'\u001b[39;49m\u001b[43m)\u001b[49m\n\u001b[1;32m      2\u001b[0m file\u001b[38;5;241m.\u001b[39mwrite(\u001b[38;5;124m\"\u001b[39m\u001b[38;5;124mhi this is\u001b[39m\u001b[38;5;124m\"\u001b[39m)\n\u001b[1;32m      3\u001b[0m \u001b[38;5;28mprint\u001b[39m(\u001b[38;5;124m\"\u001b[39m\u001b[38;5;124mthis is a line of text\u001b[39m\u001b[38;5;124m\"\u001b[39m)\n",
      "File \u001b[0;32m/opt/conda/lib/python3.10/site-packages/IPython/core/interactiveshell.py:282\u001b[0m, in \u001b[0;36m_modified_open\u001b[0;34m(file, *args, **kwargs)\u001b[0m\n\u001b[1;32m    275\u001b[0m \u001b[38;5;28;01mif\u001b[39;00m file \u001b[38;5;129;01min\u001b[39;00m {\u001b[38;5;241m0\u001b[39m, \u001b[38;5;241m1\u001b[39m, \u001b[38;5;241m2\u001b[39m}:\n\u001b[1;32m    276\u001b[0m     \u001b[38;5;28;01mraise\u001b[39;00m \u001b[38;5;167;01mValueError\u001b[39;00m(\n\u001b[1;32m    277\u001b[0m         \u001b[38;5;124mf\u001b[39m\u001b[38;5;124m\"\u001b[39m\u001b[38;5;124mIPython won\u001b[39m\u001b[38;5;124m'\u001b[39m\u001b[38;5;124mt let you open fd=\u001b[39m\u001b[38;5;132;01m{\u001b[39;00mfile\u001b[38;5;132;01m}\u001b[39;00m\u001b[38;5;124m by default \u001b[39m\u001b[38;5;124m\"\u001b[39m\n\u001b[1;32m    278\u001b[0m         \u001b[38;5;124m\"\u001b[39m\u001b[38;5;124mas it is likely to crash IPython. If you know what you are doing, \u001b[39m\u001b[38;5;124m\"\u001b[39m\n\u001b[1;32m    279\u001b[0m         \u001b[38;5;124m\"\u001b[39m\u001b[38;5;124myou can use builtins\u001b[39m\u001b[38;5;124m'\u001b[39m\u001b[38;5;124m open.\u001b[39m\u001b[38;5;124m\"\u001b[39m\n\u001b[1;32m    280\u001b[0m     )\n\u001b[0;32m--> 282\u001b[0m \u001b[38;5;28;01mreturn\u001b[39;00m \u001b[43mio_open\u001b[49m\u001b[43m(\u001b[49m\u001b[43mfile\u001b[49m\u001b[43m,\u001b[49m\u001b[43m \u001b[49m\u001b[38;5;241;43m*\u001b[39;49m\u001b[43margs\u001b[49m\u001b[43m,\u001b[49m\u001b[43m \u001b[49m\u001b[38;5;241;43m*\u001b[39;49m\u001b[38;5;241;43m*\u001b[39;49m\u001b[43mkwargs\u001b[49m\u001b[43m)\u001b[49m\n",
      "\u001b[0;31mFileNotFoundError\u001b[0m: [Errno 2] No such file or directory: 'test.txt'"
     ]
    }
   ],
   "source": [
    "file = open(\"test.txt\", 'r')\n",
    "file.write(\"hi this is\")\n",
    "print(\"this is a line of text\")"
   ]
  },
  {
   "cell_type": "code",
   "execution_count": null,
   "id": "c6966b19-baec-49b4-9961-94611800d2a8",
   "metadata": {},
   "outputs": [],
   "source": []
  },
  {
   "cell_type": "code",
   "execution_count": null,
   "id": "9413f076-b5bc-4538-b385-27b40034b21c",
   "metadata": {},
   "outputs": [],
   "source": [
    "Q3. Which python statements are used to catch and handle exceptions? Explain with an example."
   ]
  },
  {
   "cell_type": "code",
   "execution_count": null,
   "id": "27168973-d7f2-4109-9cf0-f859819ca3ee",
   "metadata": {},
   "outputs": [],
   "source": [
    "Ans:- In Python, the \"try-except\" statements are used to catch and handle exceptions. The \"try\" block contains the code that \n",
    "may raise an exception, and the \"except\" block specifies the exception(s) to catch and the corresponding code to handle them.\n",
    "\n",
    "Here's an example to illustrate the usage of try-except statements:\n",
    "try:\n",
    "    # Code that may raise an exception\n",
    "    num1 = int(input(\"Enter a numerator: \"))\n",
    "    num2 = int(input(\"Enter a denominator: \"))\n",
    "    result = num1 / num2  # Possible ZeroDivisionError\n",
    "    print(\"Result:\", result)\n",
    "except ZeroDivisionError:\n",
    "    # Exception handler for ZeroDivisionError\n",
    "    print(\"Error: Cannot divide by zero.\")\n",
    "except ValueError:\n",
    "    # Exception handler for ValueError (if non-integer input is given)\n",
    "    print(\"Error: Invalid input. Please enter integers.\")\n",
    "\n",
    "\n"
   ]
  },
  {
   "cell_type": "code",
   "execution_count": null,
   "id": "4f5e239f-459d-419d-9882-c47e93eea35a",
   "metadata": {},
   "outputs": [],
   "source": []
  },
  {
   "cell_type": "code",
   "execution_count": null,
   "id": "f5a236b5-42e0-4df5-9f04-6e3432012ed3",
   "metadata": {},
   "outputs": [],
   "source": [
    "Q4. Explain with an example :\n",
    "    a. try and else\n",
    "    b. finally\n",
    "    c. raise"
   ]
  },
  {
   "cell_type": "code",
   "execution_count": null,
   "id": "53d59a64-dfb4-43d3-b931-5a9cb6b4e1bb",
   "metadata": {},
   "outputs": [],
   "source": [
    "Ans:- a. try and else: The \"try-else\" statement is used to specify a block of code that should be executed if no exceptions occur in the\n",
    "corresponding \"try\" block. It provides an opportunity to execute code when no exceptions are raised. Here's an example:\n",
    "try:\n",
    "    num1 = int(input(\"Enter a number: \"))\n",
    "    num2 = int(input(\"Enter another number: \"))\n",
    "    result = num1 / num2\n",
    "except ValueError:\n",
    "    print(\"Error: Invalid input. Please enter integers.\")\n",
    "except ZeroDivisionError:\n",
    "    print(\"Error: Cannot divide by zero.\")\n",
    "else:\n",
    "    print(\"Division result:\", result)\n",
    "      b. finally: The \"finally\" block is used to define a block of code that will be executed regardless of whether an exception occurs or not.\n",
    "It is typically used to perform cleanup actions or release resources. Here's an example:\n",
    "try:\n",
    "    file = open(\"example.txt\", \"r\")\n",
    "    # Perform some operations on the file\n",
    "except FileNotFoundError:\n",
    "    print(\"Error: File not found.\")\n",
    "finally:\n",
    "    file.close()  # Close the file regardless of exceptions\n",
    "      c. raise: The \"raise\" statement is used to manually raise an exception. It allows you to create custom exceptions or re-raise existing \n",
    "exceptions. Here's an example:\n",
    "def validate_age(age):\n",
    "    if age < 0:\n",
    "        raise ValueError(\"Age cannot be negative.\")\n",
    "    elif age < 18:\n",
    "        raise ValueError(\"You must be at least 18 years old.\")\n",
    "    else:\n",
    "        print(\"Age is valid.\")\n",
    "\n",
    "try:\n",
    "    user_age = int(input(\"Enter your age: \"))\n",
    "    validate_age(user_age)\n",
    "except ValueError as e:\n",
    "    print(\"Error:\", str(e))\n",
    "\n"
   ]
  },
  {
   "cell_type": "code",
   "execution_count": null,
   "id": "456e2971-2275-4a79-92cc-bf0a402fcb5a",
   "metadata": {},
   "outputs": [],
   "source": []
  },
  {
   "cell_type": "code",
   "execution_count": null,
   "id": "3b922ae4-0a42-48df-8548-74d673ad734c",
   "metadata": {},
   "outputs": [],
   "source": [
    "Q5. What are Custom Exceptions in python? Why do we need Custom Exceptions? Explain with an example."
   ]
  },
  {
   "cell_type": "code",
   "execution_count": null,
   "id": "a8badbbd-fd52-4034-b1c1-e5c8c49edb0c",
   "metadata": {},
   "outputs": [],
   "source": [
    "Ans:- Custom exceptions in Python are user-defined exception classes that inherit from the built-in Exception class or its subclasses.\n",
    "They allow programmers to define their own specific exception types to represent exceptional conditions that are unique to their program\n",
    "or domain.\n",
    "    We need custom exceptions to provide more specific and meaningful error handling for exceptional scenarios. By creating custom exceptions,\n",
    "we can raise and catch specific types of exceptions that are relevant to our program's logic, making it easier to identify and handle specific\n",
    "exceptional conditions.\n",
    "Here's an example: \n",
    "class InvalidEmailError(Exception):\n",
    "    pass\n",
    "\n",
    "def send_email(email):\n",
    "    if \"@\" not in email:\n",
    "        raise InvalidEmailError(\"Invalid email address.\")\n",
    "    # Code to send email\n",
    "\n",
    "try:\n",
    "    email_address = input(\"Enter the email address: \")\n",
    "    send_email(email_address)\n",
    "except InvalidEmailError as e:\n",
    "    print(\"Error:\", str(e))\n",
    "\n"
   ]
  },
  {
   "cell_type": "code",
   "execution_count": null,
   "id": "662e4ca0-ca4c-4d4f-b2a0-089573b638e1",
   "metadata": {},
   "outputs": [],
   "source": []
  },
  {
   "cell_type": "code",
   "execution_count": null,
   "id": "d7820ef0-4145-4bf4-8daf-4a288c445f48",
   "metadata": {},
   "outputs": [],
   "source": []
  }
 ],
 "metadata": {
  "kernelspec": {
   "display_name": "Python 3 (ipykernel)",
   "language": "python",
   "name": "python3"
  },
  "language_info": {
   "codemirror_mode": {
    "name": "ipython",
    "version": 3
   },
   "file_extension": ".py",
   "mimetype": "text/x-python",
   "name": "python",
   "nbconvert_exporter": "python",
   "pygments_lexer": "ipython3",
   "version": "3.10.8"
  }
 },
 "nbformat": 4,
 "nbformat_minor": 5
}
